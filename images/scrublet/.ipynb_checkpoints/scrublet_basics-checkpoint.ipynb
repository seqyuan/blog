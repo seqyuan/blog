{
 "cells": [
  {
   "cell_type": "markdown",
   "metadata": {},
   "source": [
    "This example shows how to:  \n",
    "1. Load a counts matrix (10X Chromium data from human peripheral blood cells)\n",
    "2. Run the default Scrublet pipeline \n",
    "3. Check that doublet predictions make sense"
   ]
  },
  {
   "cell_type": "code",
   "execution_count": 2,
   "metadata": {},
   "outputs": [],
   "source": [
    "%matplotlib inline\n",
    "import scrublet as scr\n",
    "import scipy.io\n",
    "import matplotlib.pyplot as plt\n",
    "import numpy as np\n",
    "import os\n",
    "import pandas as pd"
   ]
  },
  {
   "cell_type": "code",
   "execution_count": 3,
   "metadata": {},
   "outputs": [],
   "source": [
    "plt.rcParams['font.family'] = 'sans-serif'\n",
    "plt.rcParams['font.sans-serif'] = 'Arial'\n",
    "plt.rc('font', size=14)\n",
    "plt.rcParams['pdf.fonttype'] = 42"
   ]
  },
  {
   "cell_type": "markdown",
   "metadata": {},
   "source": [
    "#### Download 8k PBMC data set from 10X Genomics\n",
    "Download raw data from this link:\n",
    "http://cf.10xgenomics.com/samples/cell-exp/2.1.0/pbmc8k/pbmc8k_filtered_gene_bc_matrices.tar.gz\n",
    "\n",
    "\n",
    "Or use wget:"
   ]
  },
  {
   "cell_type": "code",
   "execution_count": 3,
   "metadata": {
    "scrolled": true
   },
   "outputs": [
    {
     "name": "stdout",
     "output_type": "stream",
     "text": [
      "--2018-10-04 11:21:04--  http://cf.10xgenomics.com/samples/cell-exp/2.1.0/pbmc8k/pbmc8k_filtered_gene_bc_matrices.tar.gz\n",
      "Resolving cf.10xgenomics.com (cf.10xgenomics.com)... 13.35.78.24, 13.35.78.116, 13.35.78.82, ...\n",
      "Connecting to cf.10xgenomics.com (cf.10xgenomics.com)|13.35.78.24|:80... connected.\n",
      "HTTP request sent, awaiting response... 200 OK\n",
      "Length: 37558165 (36M) [application/x-tar]\n",
      "Saving to: ‘pbmc8k_filtered_gene_bc_matrices.tar.gz’\n",
      "\n",
      "pbmc8k_filtered_gen 100%[===================>]  35.82M  16.5MB/s    in 2.2s    \n",
      "\n",
      "2018-10-04 11:21:07 (16.5 MB/s) - ‘pbmc8k_filtered_gene_bc_matrices.tar.gz’ saved [37558165/37558165]\n",
      "\n"
     ]
    }
   ],
   "source": [
    "!wget http://cf.10xgenomics.com/samples/cell-exp/2.1.0/pbmc8k/pbmc8k_filtered_gene_bc_matrices.tar.gz"
   ]
  },
  {
   "cell_type": "markdown",
   "metadata": {},
   "source": [
    "Uncompress:"
   ]
  },
  {
   "cell_type": "code",
   "execution_count": 4,
   "metadata": {},
   "outputs": [],
   "source": [
    "!tar xfz pbmc8k_filtered_gene_bc_matrices.tar.gz"
   ]
  },
  {
   "cell_type": "markdown",
   "metadata": {},
   "source": [
    "#### Load counts matrix and gene list\n",
    "Load the raw counts matrix as a scipy sparse matrix with cells as rows and genes as columns."
   ]
  },
  {
   "cell_type": "code",
   "execution_count": 7,
   "metadata": {},
   "outputs": [
    {
     "name": "stdout",
     "output_type": "stream",
     "text": [
      "Counts matrix shape: 8381 rows, 33694 columns\n",
      "Number of genes in gene list: 33694\n"
     ]
    }
   ],
   "source": [
    "input_dir = '/Users/yuanzan/Desktop/doublets/filtered_gene_bc_matrices/GRCh38/'\n",
    "counts_matrix = scipy.io.mmread(input_dir + '/matrix.mtx').T.tocsc()\n",
    "genes = np.array(scr.load_genes(input_dir + '/genes.tsv', delimiter='\\t', column=1))\n",
    "out_df = pd.read_csv(input_dir + '/barcodes.tsv', header = None, index_col=None, names=['barcode'])\n",
    "\n",
    "print('Counts matrix shape: {} rows, {} columns'.format(counts_matrix.shape[0], counts_matrix.shape[1]))\n",
    "print('Number of genes in gene list: {}'.format(len(genes)))\n",
    "        "
   ]
  },
  {
   "cell_type": "markdown",
   "metadata": {},
   "source": [
    "#### Initialize Scrublet object\n",
    "The relevant parameters are:\n",
    "- *expected_doublet_rate*: the expected fraction of transcriptomes that are doublets, typically 0.05-0.1. Results are not particularly sensitive to this parameter. For this example, the expected doublet rate comes from the Chromium User Guide: https://support.10xgenomics.com/permalink/3vzDu3zQjY0o2AqkkkI4CC\n",
    "- *sim_doublet_ratio*: the number of doublets to simulate, relative to the number of observed transcriptomes. This should be high enough that all doublet states are well-represented by simulated doublets. Setting it too high is computationally expensive. The default value is 2, though values as low as 0.5 give very similar results for the datasets that have been tested.\n",
    "- *n_neighbors*: Number of neighbors used to construct the KNN classifier of observed transcriptomes and simulated doublets. The default value of `round(0.5*sqrt(n_cells))` generally works well.\n"
   ]
  },
  {
   "cell_type": "code",
   "execution_count": 3,
   "metadata": {},
   "outputs": [
    {
     "name": "stdout",
     "output_type": "stream",
     "text": [
      "Help on class Scrublet in module scrublet.scrublet:\n",
      "\n",
      "class Scrublet(builtins.object)\n",
      " |  Methods defined here:\n",
      " |  \n",
      " |  __init__(self, counts_matrix, total_counts=None, sim_doublet_ratio=2.0, n_neighbors=None, expected_doublet_rate=0.1, stdev_doublet_rate=0.02, random_state=0)\n",
      " |      Initialize Scrublet object with counts matrix and doublet prediction parameters\n",
      " |      \n",
      " |      Parameters\n",
      " |      ----------\n",
      " |      counts_matrix : scipy sparse matrix or ndarray, shape (n_cells, n_genes)\n",
      " |          Matrix containing raw (unnormalized) UMI-based transcript counts. \n",
      " |          Converted into a scipy.sparse.csc_matrix.\n",
      " |      \n",
      " |      total_counts : ndarray, shape (n_cells,), optional (default: None)\n",
      " |          Array of total UMI counts per cell. If `None`, this is calculated\n",
      " |          as the row sums of `counts_matrix`. \n",
      " |      \n",
      " |      sim_doublet_ratio : float, optional (default: 2.0)\n",
      " |          Number of doublets to simulate relative to the number of observed \n",
      " |          transcriptomes.\n",
      " |      \n",
      " |      n_neighbors : int, optional (default: None)\n",
      " |          Number of neighbors used to construct the KNN graph of observed\n",
      " |          transcriptomes and simulated doublets. If `None`, this is \n",
      " |          set to round(0.5 * sqrt(n_cells))\n",
      " |      \n",
      " |      expected_doublet_rate : float, optional (default: 0.1)\n",
      " |          The estimated doublet rate for the experiment.\n",
      " |      \n",
      " |      stdev_doublet_rate : float, optional (default: 0.02)\n",
      " |          Uncertainty in the expected doublet rate.\n",
      " |      \n",
      " |      random_state : int, optional (default: 0)\n",
      " |          Random state for doublet simulation, approximate\n",
      " |          nearest neighbor search, and PCA/TruncatedSVD.\n",
      " |      \n",
      " |      Attributes\n",
      " |      ----------\n",
      " |      predicted_doublets_ : ndarray, shape (n_cells,)\n",
      " |          Boolean mask of predicted doublets in the observed\n",
      " |          transcriptomes. \n",
      " |      \n",
      " |      doublet_scores_obs_ : ndarray, shape (n_cells,)\n",
      " |          Doublet scores for observed transcriptomes.\n",
      " |      \n",
      " |      doublet_scores_sim_ : ndarray, shape (n_doublets,)\n",
      " |          Doublet scores for simulated doublets. \n",
      " |      \n",
      " |      doublet_errors_obs_ : ndarray, shape (n_cells,)\n",
      " |          Standard error in the doublet scores for observed\n",
      " |          transcriptomes.\n",
      " |      \n",
      " |      doublet_errors_sim_ : ndarray, shape (n_doublets,)\n",
      " |          Standard error in the doublet scores for simulated\n",
      " |          doublets.\n",
      " |      \n",
      " |      threshold_: float\n",
      " |          Doublet score threshold for calling a transcriptome\n",
      " |          a doublet.\n",
      " |      \n",
      " |      z_scores_ : ndarray, shape (n_cells,)\n",
      " |          Z-score conveying confidence in doublet calls. \n",
      " |          Z = `(doublet_score_obs_ - threhsold_) / doublet_errors_obs_`\n",
      " |      \n",
      " |      detected_doublet_rate_: float\n",
      " |          Fraction of observed transcriptomes that have been called\n",
      " |          doublets.\n",
      " |      \n",
      " |      detectable_doublet_fraction_: float\n",
      " |          Estimated fraction of doublets that are detectable, i.e.,\n",
      " |          fraction of simulated doublets with doublet scores above\n",
      " |          `threshold_`\n",
      " |      \n",
      " |      overall_doublet_rate_: float\n",
      " |          Estimated overall doublet rate,\n",
      " |          `detected_doublet_rate_ / detectable_doublet_fraction_`.\n",
      " |          Should agree (roughly) with `expected_doublet_rate`.\n",
      " |      \n",
      " |      manifold_obs_: ndarray, shape (n_cells, n_features)\n",
      " |          The single-cell \"manifold\" coordinates (e.g., PCA coordinates) \n",
      " |          for observed transcriptomes. Nearest neighbors are found using\n",
      " |          the union of `manifold_obs_` and `manifold_sim_` (see below).\n",
      " |      \n",
      " |      manifold_sim_: ndarray, shape (n_doublets, n_features)\n",
      " |          The single-cell \"manifold\" coordinates (e.g., PCA coordinates) \n",
      " |          for simulated doublets. Nearest neighbors are found using\n",
      " |          the union of `manifold_obs_` (see above) and `manifold_sim_`.\n",
      " |      \n",
      " |      doublet_parents_ : ndarray, shape (n_doublets, 2)\n",
      " |          Indices of the observed transcriptomes used to generate the \n",
      " |          simulated doublets.\n",
      " |      \n",
      " |      doublet_neighbor_parents_ : list, length n_cells\n",
      " |          A list of arrays of the indices of the doublet neighbors of \n",
      " |          each observed transcriptome (the ith entry is an array of \n",
      " |          the doublet neighbors of transcriptome i).\n",
      " |  \n",
      " |  calculate_doublet_scores(self, use_approx_neighbors=True, distance_metric='euclidean', get_doublet_neighbor_parents=False)\n",
      " |      Calculate doublet scores for observed transcriptomes and simulated doublets\n",
      " |      \n",
      " |      Requires that manifold_obs_ and manifold_sim_ have already been set.\n",
      " |      \n",
      " |      Arguments\n",
      " |      ---------\n",
      " |      use_approx_neighbors : bool, optional (default: True)\n",
      " |          Use approximate nearest neighbor method (annoy) for the KNN \n",
      " |          classifier.\n",
      " |      \n",
      " |      distance_metric : str, optional (default: 'euclidean')\n",
      " |          Distance metric used when finding nearest neighbors. For list of\n",
      " |          valid values, see the documentation for annoy (if `use_approx_neighbors`\n",
      " |          is True) or sklearn.neighbors.NearestNeighbors (if `use_approx_neighbors`\n",
      " |          is False).\n",
      " |          \n",
      " |      get_doublet_neighbor_parents : bool, optional (default: False)\n",
      " |          If True, return the parent transcriptomes that generated the \n",
      " |          doublet neighbors of each observed transcriptome. This information can \n",
      " |          be used to infer the cell states that generated a given \n",
      " |          doublet state.\n",
      " |      \n",
      " |      Sets\n",
      " |      ----\n",
      " |      doublet_scores_obs_, doublet_scores_sim_, \n",
      " |      doublet_errors_obs_, doublet_errors_sim_, \n",
      " |      doublet_neighbor_parents_\n",
      " |  \n",
      " |  call_doublets(self, threshold=None, verbose=True)\n",
      " |      Call trancriptomes as doublets or singlets\n",
      " |      \n",
      " |      Arguments\n",
      " |      ---------\n",
      " |      threshold : float, optional (default: None) \n",
      " |          Doublet score threshold for calling a transcriptome\n",
      " |          a doublet. If `None`, this is set automatically by looking\n",
      " |          for the minimum between the two modes of the `doublet_scores_sim_`\n",
      " |          histogram. It is best practice to check the threshold visually\n",
      " |          using the `doublet_scores_sim_` histogram and/or based on \n",
      " |          co-localization of predicted doublets in a 2-D embedding.\n",
      " |      \n",
      " |      verbose : bool, optional (default: True)\n",
      " |          If True, print summary statistics.\n",
      " |      \n",
      " |      Sets\n",
      " |      ----\n",
      " |      predicted_doublets_, z_scores_, threshold_,\n",
      " |      detected_doublet_rate_, detectable_doublet_fraction, \n",
      " |      overall_doublet_rate_\n",
      " |  \n",
      " |  plot_embedding(self, embedding_name, score='raw', marker_size=5, order_points=False, fig_size=(8, 4), color_map=None)\n",
      " |      Plot doublet predictions on 2-D embedding of observed transcriptomes\n",
      " |  \n",
      " |  plot_histogram(self, scale_hist_obs='log', scale_hist_sim='linear', fig_size=(8, 3))\n",
      " |      Plot histogram of doublet scores for observed transcriptomes and simulated doublets \n",
      " |      \n",
      " |      The histogram for simulated doublets is useful for determining the correct doublet \n",
      " |      score threshold. To set threshold to a new value, T, run call_doublets(threshold=T).\n",
      " |  \n",
      " |  scrub_doublets(self, synthetic_doublet_umi_subsampling=1.0, use_approx_neighbors=True, distance_metric='euclidean', get_doublet_neighbor_parents=False, min_counts=3, min_cells=3, min_gene_variability_pctl=85, log_transform=False, mean_center=True, normalize_variance=True, n_prin_comps=30, verbose=True)\n",
      " |      Standard pipeline for preprocessing, doublet simulation, and doublet prediction\n",
      " |      \n",
      " |      Automatically sets a threshold for calling doublets, but it's best to check \n",
      " |      this by running plot_histogram() afterwards and adjusting threshold \n",
      " |      with call_doublets(threshold=new_threshold) if necessary.\n",
      " |      \n",
      " |      Arguments\n",
      " |      ---------\n",
      " |      synthetic_doublet_umi_subsampling : float, optional (defuault: 1.0) \n",
      " |          Rate for sampling UMIs when creating synthetic doublets. If 1.0, \n",
      " |          each doublet is created by simply adding the UMIs from two randomly \n",
      " |          sampled observed transcriptomes. For values less than 1, the \n",
      " |          UMI counts are added and then randomly sampled at the specified\n",
      " |          rate.\n",
      " |      \n",
      " |      use_approx_neighbors : bool, optional (default: True)\n",
      " |          Use approximate nearest neighbor method (annoy) for the KNN \n",
      " |          classifier.\n",
      " |      \n",
      " |      distance_metric : str, optional (default: 'euclidean')\n",
      " |          Distance metric used when finding nearest neighbors. For list of\n",
      " |          valid values, see the documentation for annoy (if `use_approx_neighbors`\n",
      " |          is True) or sklearn.neighbors.NearestNeighbors (if `use_approx_neighbors`\n",
      " |          is False).\n",
      " |          \n",
      " |      get_doublet_neighbor_parents : bool, optional (default: False)\n",
      " |          If True, return the parent transcriptomes that generated the \n",
      " |          doublet neighbors of each observed transcriptome. This information can \n",
      " |          be used to infer the cell states that generated a given \n",
      " |          doublet state.\n",
      " |      \n",
      " |      min_counts : float, optional (default: 3)\n",
      " |          Used for gene filtering prior to PCA. Genes expressed at fewer than \n",
      " |          `min_counts` in fewer than `min_cells` (see below) are excluded.\n",
      " |      \n",
      " |      min_cells : int, optional (default: 3)\n",
      " |          Used for gene filtering prior to PCA. Genes expressed at fewer than \n",
      " |          `min_counts` (see above) in fewer than `min_cells` are excluded.\n",
      " |      \n",
      " |      min_gene_variability_pctl : float, optional (default: 85.0)\n",
      " |          Used for gene filtering prior to PCA. Keep the most highly variable genes\n",
      " |          (in the top min_gene_variability_pctl percentile), as measured by \n",
      " |          the v-statistic [Klein et al., Cell 2015].\n",
      " |      \n",
      " |      log_transform : bool, optional (default: False)\n",
      " |          If True, log-transform the counts matrix (log10(1+TPM)). \n",
      " |          `sklearn.decomposition.TruncatedSVD` will be used for dimensionality\n",
      " |          reduction, unless `mean_center` is True.\n",
      " |      \n",
      " |      mean_center : bool, optional (default: True)\n",
      " |          If True, center the data such that each gene has a mean of 0.\n",
      " |          `sklearn.decomposition.PCA` will be used for dimensionality\n",
      " |          reduction.\n",
      " |      \n",
      " |      normalize_variance : bool, optional (default: True)\n",
      " |          If True, normalize the data such that each gene has a variance of 1.\n",
      " |          `sklearn.decomposition.TruncatedSVD` will be used for dimensionality\n",
      " |          reduction, unless `mean_center` is True.\n",
      " |      \n",
      " |      n_prin_comps : int, optional (default: 30)\n",
      " |          Number of principal components used to embed the transcriptomes prior\n",
      " |          to k-nearest-neighbor graph construction.\n",
      " |      \n",
      " |      verbose : bool, optional (default: True)\n",
      " |          If True, print progress updates.\n",
      " |      \n",
      " |      Sets\n",
      " |      ----\n",
      " |      doublet_scores_obs_, doublet_errors_obs_,\n",
      " |      doublet_scores_sim_, doublet_errors_sim_,\n",
      " |      predicted_doublets_, z_scores_ \n",
      " |      threshold_, detected_doublet_rate_,\n",
      " |      detectable_doublet_fraction_, overall_doublet_rate_,\n",
      " |      doublet_parents_, doublet_neighbor_parents_\n",
      " |  \n",
      " |  set_embedding(self, embedding_name, coordinates)\n",
      " |      Add a 2-D embedding for the observed transcriptomes\n",
      " |  \n",
      " |  set_manifold(self, manifold_obs, manifold_sim)\n",
      " |      Set the manifold coordinates used in k-nearest-neighbor graph construction\n",
      " |      \n",
      " |      Arguments\n",
      " |      ---------\n",
      " |      manifold_obs: ndarray, shape (n_cells, n_features)\n",
      " |          The single-cell \"manifold\" coordinates (e.g., PCA coordinates) \n",
      " |          for observed transcriptomes. Nearest neighbors are found using\n",
      " |          the union of `manifold_obs` and `manifold_sim` (see below).\n",
      " |      \n",
      " |      manifold_sim: ndarray, shape (n_doublets, n_features)\n",
      " |          The single-cell \"manifold\" coordinates (e.g., PCA coordinates) \n",
      " |          for simulated doublets. Nearest neighbors are found using\n",
      " |          the union of `manifold_obs` (see above) and `manifold_sim`.\n",
      " |      \n",
      " |      Sets\n",
      " |      ----\n",
      " |      manifold_obs_, manifold_sim_,\n",
      " |  \n",
      " |  simulate_doublets(self, sim_doublet_ratio=None, synthetic_doublet_umi_subsampling=1.0)\n",
      " |      Simulate doublets by adding the counts of random observed transcriptome pairs.\n",
      " |      \n",
      " |      Arguments\n",
      " |      ---------\n",
      " |      sim_doublet_ratio : float, optional (default: None)\n",
      " |          Number of doublets to simulate relative to the number of observed \n",
      " |          transcriptomes. If `None`, self.sim_doublet_ratio is used.\n",
      " |      \n",
      " |      synthetic_doublet_umi_subsampling : float, optional (defuault: 1.0) \n",
      " |          Rate for sampling UMIs when creating synthetic doublets. If 1.0, \n",
      " |          each doublet is created by simply adding the UMIs from two randomly \n",
      " |          sampled observed transcriptomes. For values less than 1, the \n",
      " |          UMI counts are added and then randomly sampled at the specified\n",
      " |          rate.\n",
      " |      \n",
      " |      Sets\n",
      " |      ----\n",
      " |      doublet_parents_\n",
      " |  \n",
      " |  ----------------------------------------------------------------------\n",
      " |  Data descriptors defined here:\n",
      " |  \n",
      " |  __dict__\n",
      " |      dictionary for instance variables (if defined)\n",
      " |  \n",
      " |  __weakref__\n",
      " |      list of weak references to the object (if defined)\n",
      "\n"
     ]
    }
   ],
   "source": [
    "help(scr.Scrublet)"
   ]
  },
  {
   "cell_type": "code",
   "execution_count": 8,
   "metadata": {},
   "outputs": [],
   "source": [
    "scrub = scr.Scrublet(counts_matrix, expected_doublet_rate=0.06)"
   ]
  },
  {
   "cell_type": "markdown",
   "metadata": {},
   "source": [
    "#### Run the default pipeline, which includes:\n",
    "1. Doublet simulation\n",
    "2. Normalization, gene filtering, rescaling, PCA\n",
    "3. Doublet score calculation \n",
    "4. Doublet score threshold detection and doublet calling\n"
   ]
  },
  {
   "cell_type": "code",
   "execution_count": 9,
   "metadata": {},
   "outputs": [
    {
     "name": "stdout",
     "output_type": "stream",
     "text": [
      "Preprocessing...\n",
      "Simulating doublets...\n",
      "Embedding transcriptomes using PCA...\n",
      "Calculating doublet scores...\n",
      "Automatically set threshold at doublet score = 0.22\n",
      "Detected doublet rate = 4.4%\n",
      "Estimated detectable doublet fraction = 61.1%\n",
      "Overall doublet rate:\n",
      "\tExpected   = 6.0%\n",
      "\tEstimated  = 7.2%\n",
      "Elapsed time: 13.6 seconds\n"
     ]
    }
   ],
   "source": [
    "doublet_scores, predicted_doublets = scrub.scrub_doublets(min_counts=2, \n",
    "                                                          min_cells=3, \n",
    "                                                          min_gene_variability_pctl=85, \n",
    "                                                          n_prin_comps=30)"
   ]
  },
  {
   "cell_type": "markdown",
   "metadata": {},
   "source": [
    "#### Plot doublet score histograms  for observed transcriptomes and simulated doublets\n",
    "The simulated doublet histogram is typically bimodal. The left mode corresponds to \"embedded\" doublets generated by two cells with similar gene expression. The right mode corresponds to \"neotypic\" doublets, which are generated by cells with distinct gene expression (e.g., different cell types) and are expected to introduce more artifacts in downstream analyses. Scrublet can only detect neotypic doublets.  \n",
    "  \n",
    "To call doublets vs. singlets, we must set a threshold doublet score, ideally at the minimum between the two modes of the simulated doublet histogram. `scrub_doublets()` attempts to identify this point automatically and has done a good job in this example. However, if automatic threshold detection doesn't work well, you can adjust the threshold with the `call_doublets()` function. For example:\n",
    "```python\n",
    "scrub.call_doublets(threshold=0.25)\n",
    "```"
   ]
  },
  {
   "cell_type": "code",
   "execution_count": 10,
   "metadata": {},
   "outputs": [
    {
     "data": {
      "image/png": "[encoded data removed]",
      "text/plain": [
       "<Figure size 576x216 with 2 Axes>"
      ]
     },
     "metadata": {},
     "output_type": "display_data"
    }
   ],
   "source": [
    "scrub.plot_histogram();"
   ]
  },
  {
   "cell_type": "markdown",
   "metadata": {},
   "source": [
    "#### Get 2-D embedding to visualize the results"
   ]
  },
  {
   "cell_type": "code",
   "execution_count": 11,
   "metadata": {},
   "outputs": [
    {
     "name": "stdout",
     "output_type": "stream",
     "text": [
      "Running UMAP...\n"
     ]
    },
    {
     "name": "stderr",
     "output_type": "stream",
     "text": [
      "/Users/yuanzan/anaconda3/lib/python3.6/site-packages/numba/typed_passes.py:293: NumbaPerformanceWarning: \u001b[1m\n",
      "The keyword argument 'parallel=True' was specified but no transformation for parallel execution was possible.\n",
      "\n",
      "To find out why, try turning on parallel diagnostics, see http://numba.pydata.org/numba-doc/latest/user/parallel.html#diagnostics for help.\n",
      "\u001b[1m\n",
      "File \"../../anaconda3/lib/python3.6/site-packages/umap/rp_tree.py\", line 135:\u001b[0m\n",
      "\u001b[1m@numba.njit(fastmath=True, nogil=True, parallel=True)\n",
      "\u001b[1mdef euclidean_random_projection_split(data, indices, rng_state):\n",
      "\u001b[0m\u001b[1m^\u001b[0m\u001b[0m\n",
      "\u001b[0m\n",
      "  state.func_ir.loc))\n",
      "/Users/yuanzan/anaconda3/lib/python3.6/site-packages/umap/nndescent.py:92: NumbaPerformanceWarning: \u001b[1m\u001b[1m\n",
      "The keyword argument 'parallel=True' was specified but no transformation for parallel execution was possible.\n",
      "\n",
      "To find out why, try turning on parallel diagnostics, see http://numba.pydata.org/numba-doc/latest/user/parallel.html#diagnostics for help.\n",
      "\u001b[1m\n",
      "File \"../../anaconda3/lib/python3.6/site-packages/umap/utils.py\", line 409:\u001b[0m\n",
      "\u001b[1m@numba.njit(parallel=True)\n",
      "\u001b[1mdef build_candidates(current_graph, n_vertices, n_neighbors, max_candidates, rng_state):\n",
      "\u001b[0m\u001b[1m^\u001b[0m\u001b[0m\n",
      "\u001b[0m\u001b[0m\n",
      "  current_graph, n_vertices, n_neighbors, max_candidates, rng_state\n",
      "/Users/yuanzan/anaconda3/lib/python3.6/site-packages/numba/typed_passes.py:293: NumbaPerformanceWarning: \u001b[1m\n",
      "The keyword argument 'parallel=True' was specified but no transformation for parallel execution was possible.\n",
      "\n",
      "To find out why, try turning on parallel diagnostics, see http://numba.pydata.org/numba-doc/latest/user/parallel.html#diagnostics for help.\n",
      "\u001b[1m\n",
      "File \"../../anaconda3/lib/python3.6/site-packages/umap/nndescent.py\", line 47:\u001b[0m\n",
      "\u001b[1m    @numba.njit(parallel=True)\n",
      "\u001b[1m    def nn_descent(\n",
      "\u001b[0m    \u001b[1m^\u001b[0m\u001b[0m\n",
      "\u001b[0m\n",
      "  state.func_ir.loc))\n"
     ]
    },
    {
     "name": "stdout",
     "output_type": "stream",
     "text": [
      "Done.\n",
      "Done.\n"
     ]
    }
   ],
   "source": [
    "print('Running UMAP...')\n",
    "scrub.set_embedding('UMAP', scr.get_umap(scrub.manifold_obs_, 10, min_dist=0.3))\n",
    "\n",
    "# # Uncomment to run tSNE - slow\n",
    "# print('Running tSNE...')\n",
    "# scrub.set_embedding('tSNE', scr.get_tsne(scrub.manifold_obs_, angle=0.9))\n",
    "\n",
    "# # Uncomment to run force layout - slow\n",
    "# print('Running ForceAtlas2...')\n",
    "# scrub.set_embedding('FA', scr.get_force_layout(scrub.manifold_obs_, n_neighbors=5. n_iter=1000))\n",
    "    \n",
    "print('Done.')"
   ]
  },
  {
   "cell_type": "markdown",
   "metadata": {},
   "source": [
    "#### Plot doublet predictions on 2-D embedding\n",
    "Predicted doublets should co-localize in distinct states."
   ]
  },
  {
   "cell_type": "code",
   "execution_count": 12,
   "metadata": {},
   "outputs": [
    {
     "data": {
      "image/png": "[encoded data removed]",
      "text/plain": [
       "<Figure size 576x288 with 3 Axes>"
      ]
     },
     "metadata": {},
     "output_type": "display_data"
    }
   ],
   "source": [
    "scrub.plot_embedding('UMAP', order_points=True);\n",
    "\n",
    "# scrub.plot_embedding('tSNE', order_points=True);\n",
    "# scrub.plot_embedding('FA', order_points=True);"
   ]
  },
  {
   "cell_type": "code",
   "execution_count": 43,
   "metadata": {},
   "outputs": [],
   "source": [
    "#help(scrub)"
   ]
  },
  {
   "cell_type": "code",
   "execution_count": 37,
   "metadata": {},
   "outputs": [
    {
     "data": {
      "text/plain": [
       "0.043789523923159525"
      ]
     },
     "execution_count": 37,
     "metadata": {},
     "output_type": "execute_result"
    }
   ],
   "source": [
    "scrub.detected_doublet_rate_\n"
   ]
  },
  {
   "cell_type": "code",
   "execution_count": 38,
   "metadata": {},
   "outputs": [],
   "source": [
    "out_df['doublet_scores'] = doublet_scores\n",
    "out_df['predicted_doublets'] = predicted_doublets"
   ]
  },
  {
   "cell_type": "code",
   "execution_count": 40,
   "metadata": {},
   "outputs": [],
   "source": [
    "out_df.to_csv(input_dir + '/doublet.txt', index=False,header=True)"
   ]
  },
  {
   "cell_type": "code",
   "execution_count": 42,
   "metadata": {},
   "outputs": [
    {
     "data": {
      "text/html": [
       "<div>\n",
       "<style scoped>\n",
       "    .dataframe tbody tr th:only-of-type {\n",
       "        vertical-align: middle;\n",
       "    }\n",
       "\n",
       "    .dataframe tbody tr th {\n",
       "        vertical-align: top;\n",
       "    }\n",
       "\n",
       "    .dataframe thead th {\n",
       "        text-align: right;\n",
       "    }\n",
       "</style>\n",
       "<table border=\"1\" class=\"dataframe\">\n",
       "  <thead>\n",
       "    <tr style=\"text-align: right;\">\n",
       "      <th></th>\n",
       "      <th>barcode</th>\n",
       "      <th>doublet_scores</th>\n",
       "      <th>predicted_doublets</th>\n",
       "    </tr>\n",
       "  </thead>\n",
       "  <tbody>\n",
       "    <tr>\n",
       "      <th>0</th>\n",
       "      <td>AAACCTGAGCATCATC-1</td>\n",
       "      <td>0.020233</td>\n",
       "      <td>False</td>\n",
       "    </tr>\n",
       "    <tr>\n",
       "      <th>1</th>\n",
       "      <td>AAACCTGAGCTAACTC-1</td>\n",
       "      <td>0.009747</td>\n",
       "      <td>False</td>\n",
       "    </tr>\n",
       "    <tr>\n",
       "      <th>2</th>\n",
       "      <td>AAACCTGAGCTAGTGG-1</td>\n",
       "      <td>0.013493</td>\n",
       "      <td>False</td>\n",
       "    </tr>\n",
       "    <tr>\n",
       "      <th>3</th>\n",
       "      <td>AAACCTGCACATTAGC-1</td>\n",
       "      <td>0.087379</td>\n",
       "      <td>False</td>\n",
       "    </tr>\n",
       "    <tr>\n",
       "      <th>4</th>\n",
       "      <td>AAACCTGCACTGTTAG-1</td>\n",
       "      <td>0.024050</td>\n",
       "      <td>False</td>\n",
       "    </tr>\n",
       "  </tbody>\n",
       "</table>\n",
       "</div>"
      ],
      "text/plain": [
       "              barcode  doublet_scores  predicted_doublets\n",
       "0  AAACCTGAGCATCATC-1        0.020233               False\n",
       "1  AAACCTGAGCTAACTC-1        0.009747               False\n",
       "2  AAACCTGAGCTAGTGG-1        0.013493               False\n",
       "3  AAACCTGCACATTAGC-1        0.087379               False\n",
       "4  AAACCTGCACTGTTAG-1        0.024050               False"
      ]
     },
     "execution_count": 42,
     "metadata": {},
     "output_type": "execute_result"
    }
   ],
   "source": [
    "out_df.head()"
   ]
  },
  {
   "cell_type": "code",
   "execution_count": null,
   "metadata": {},
   "outputs": [],
   "source": []
  }
 ],
 "metadata": {
  "kernelspec": {
   "display_name": "Python 3",
   "language": "python",
   "name": "python3"
  },
  "language_info": {
   "codemirror_mode": {
    "name": "ipython",
    "version": 3
   },
   "file_extension": ".py",
   "mimetype": "text/x-python",
   "name": "python",
   "nbconvert_exporter": "python",
   "pygments_lexer": "ipython3",
   "version": "3.6.5"
  }
 },
 "nbformat": 4,
 "nbformat_minor": 2
}
